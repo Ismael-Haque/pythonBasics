{
 "cells": [
  {
   "cell_type": "code",
   "execution_count": 1,
   "id": "da783afb",
   "metadata": {},
   "outputs": [
    {
     "name": "stdout",
     "output_type": "stream",
     "text": [
      "This is multiline \n",
      "String\n"
     ]
    }
   ],
   "source": [
    "a = \"\"\"This is multiline \n",
    "String\"\"\"\n",
    "\n",
    "print(a)"
   ]
  },
  {
   "cell_type": "code",
   "execution_count": 2,
   "id": "adea62cf",
   "metadata": {},
   "outputs": [
    {
     "data": {
      "text/plain": [
       "'T'"
      ]
     },
     "execution_count": 2,
     "metadata": {},
     "output_type": "execute_result"
    }
   ],
   "source": [
    "a[0]"
   ]
  },
  {
   "cell_type": "code",
   "execution_count": 3,
   "id": "726efcd1",
   "metadata": {},
   "outputs": [
    {
     "name": "stdout",
     "output_type": "stream",
     "text": [
      "T\n",
      "h\n",
      "i\n",
      "s\n",
      " \n",
      "i\n",
      "s\n",
      " \n",
      "m\n",
      "u\n",
      "l\n",
      "t\n",
      "i\n",
      "l\n",
      "i\n",
      "n\n",
      "e\n",
      " \n",
      "\n",
      "\n",
      "S\n",
      "t\n",
      "r\n",
      "i\n",
      "n\n",
      "g\n"
     ]
    }
   ],
   "source": [
    "for i in a:\n",
    "    print(i)"
   ]
  },
  {
   "cell_type": "code",
   "execution_count": 4,
   "id": "5a445b2e",
   "metadata": {},
   "outputs": [
    {
     "data": {
      "text/plain": [
       "25"
      ]
     },
     "execution_count": 4,
     "metadata": {},
     "output_type": "execute_result"
    }
   ],
   "source": [
    "len(a)"
   ]
  },
  {
   "cell_type": "code",
   "execution_count": 5,
   "id": "8973fe37",
   "metadata": {},
   "outputs": [
    {
     "name": "stdout",
     "output_type": "stream",
     "text": [
      "True\n"
     ]
    }
   ],
   "source": [
    "txt = \"The best things in life are free!\"\n",
    "print(\"free\" in txt)"
   ]
  },
  {
   "cell_type": "code",
   "execution_count": 6,
   "id": "cae1d8dd",
   "metadata": {},
   "outputs": [
    {
     "data": {
      "text/plain": [
       "True"
      ]
     },
     "execution_count": 6,
     "metadata": {},
     "output_type": "execute_result"
    }
   ],
   "source": [
    "\"th\" in txt"
   ]
  },
  {
   "cell_type": "code",
   "execution_count": 7,
   "id": "31244bbb",
   "metadata": {},
   "outputs": [
    {
     "data": {
      "text/plain": [
       "True"
      ]
     },
     "execution_count": 7,
     "metadata": {},
     "output_type": "execute_result"
    }
   ],
   "source": [
    "\" \" in txt"
   ]
  },
  {
   "cell_type": "code",
   "execution_count": 10,
   "id": "b6a49ceb",
   "metadata": {},
   "outputs": [
    {
     "data": {
      "text/plain": [
       "True"
      ]
     },
     "execution_count": 10,
     "metadata": {},
     "output_type": "execute_result"
    }
   ],
   "source": [
    "\"ding\" not in txt"
   ]
  },
  {
   "cell_type": "code",
   "execution_count": 11,
   "id": "aa14752a",
   "metadata": {},
   "outputs": [
    {
     "data": {
      "text/plain": [
       "'The best t'"
      ]
     },
     "execution_count": 11,
     "metadata": {},
     "output_type": "execute_result"
    }
   ],
   "source": [
    "txt[:10]"
   ]
  },
  {
   "cell_type": "code",
   "execution_count": 12,
   "id": "10150557",
   "metadata": {},
   "outputs": [
    {
     "data": {
      "text/plain": [
       "'hings in l'"
      ]
     },
     "execution_count": 12,
     "metadata": {},
     "output_type": "execute_result"
    }
   ],
   "source": [
    "txt[10:20]"
   ]
  },
  {
   "cell_type": "code",
   "execution_count": 13,
   "id": "23f5ab23",
   "metadata": {},
   "outputs": [
    {
     "data": {
      "text/plain": [
       "'ife are free!'"
      ]
     },
     "execution_count": 13,
     "metadata": {},
     "output_type": "execute_result"
    }
   ],
   "source": [
    "txt[20:]"
   ]
  },
  {
   "cell_type": "code",
   "execution_count": 16,
   "id": "6c37dce9",
   "metadata": {},
   "outputs": [
    {
     "data": {
      "text/plain": [
       "' are free'"
      ]
     },
     "execution_count": 16,
     "metadata": {},
     "output_type": "execute_result"
    }
   ],
   "source": [
    "txt[-10:-1]"
   ]
  },
  {
   "cell_type": "code",
   "execution_count": 17,
   "id": "f2bb8e75",
   "metadata": {},
   "outputs": [
    {
     "data": {
      "text/plain": [
       "'Slice this text'"
      ]
     },
     "execution_count": 17,
     "metadata": {},
     "output_type": "execute_result"
    }
   ],
   "source": [
    "slic = \"Slice this text\"\n",
    "slic"
   ]
  },
  {
   "cell_type": "code",
   "execution_count": 18,
   "id": "496e3109",
   "metadata": {},
   "outputs": [
    {
     "data": {
      "text/plain": [
       "'Slice this'"
      ]
     },
     "execution_count": 18,
     "metadata": {},
     "output_type": "execute_result"
    }
   ],
   "source": [
    "slic[:10]"
   ]
  },
  {
   "cell_type": "code",
   "execution_count": 20,
   "id": "baed3026",
   "metadata": {},
   "outputs": [
    {
     "data": {
      "text/plain": [
       "'text'"
      ]
     },
     "execution_count": 20,
     "metadata": {},
     "output_type": "execute_result"
    }
   ],
   "source": [
    "slic[-4:]"
   ]
  },
  {
   "cell_type": "code",
   "execution_count": 21,
   "id": "d0c2d6f7",
   "metadata": {},
   "outputs": [
    {
     "data": {
      "text/plain": [
       "'try changing the case of this text'"
      ]
     },
     "execution_count": 21,
     "metadata": {},
     "output_type": "execute_result"
    }
   ],
   "source": [
    "x = \"try changing the case of this text\"\n",
    "x"
   ]
  },
  {
   "cell_type": "code",
   "execution_count": 25,
   "id": "802abebe",
   "metadata": {},
   "outputs": [
    {
     "name": "stdout",
     "output_type": "stream",
     "text": [
      "TRY CHANGING THE CASE OF THIS TEXT\n"
     ]
    }
   ],
   "source": [
    "z = x.upper()\n",
    "print(z)"
   ]
  },
  {
   "cell_type": "code",
   "execution_count": 26,
   "id": "65e88274",
   "metadata": {},
   "outputs": [
    {
     "data": {
      "text/plain": [
       "'try changing the case of this text'"
      ]
     },
     "execution_count": 26,
     "metadata": {},
     "output_type": "execute_result"
    }
   ],
   "source": [
    "z.lower()"
   ]
  },
  {
   "cell_type": "code",
   "execution_count": 27,
   "id": "18db0699",
   "metadata": {},
   "outputs": [],
   "source": [
    "a = \" Strip method removes any whitespace from before or after the text             \""
   ]
  },
  {
   "cell_type": "code",
   "execution_count": 28,
   "id": "9a61be8a",
   "metadata": {},
   "outputs": [
    {
     "data": {
      "text/plain": [
       "79"
      ]
     },
     "execution_count": 28,
     "metadata": {},
     "output_type": "execute_result"
    }
   ],
   "source": [
    "len(a)"
   ]
  },
  {
   "cell_type": "code",
   "execution_count": 30,
   "id": "8c749571",
   "metadata": {},
   "outputs": [
    {
     "data": {
      "text/plain": [
       "'Strip method removes any whitespace from before or after the text'"
      ]
     },
     "execution_count": 30,
     "metadata": {},
     "output_type": "execute_result"
    }
   ],
   "source": [
    "a_after_strip = a.strip()\n",
    "a_after_strip"
   ]
  },
  {
   "cell_type": "code",
   "execution_count": 31,
   "id": "8d4a0a7f",
   "metadata": {},
   "outputs": [
    {
     "data": {
      "text/plain": [
       "65"
      ]
     },
     "execution_count": 31,
     "metadata": {},
     "output_type": "execute_result"
    }
   ],
   "source": [
    "len(a_after_strip)"
   ]
  },
  {
   "cell_type": "code",
   "execution_count": 32,
   "id": "0afb78e5",
   "metadata": {},
   "outputs": [
    {
     "data": {
      "text/plain": [
       "'Strip method removes Jny whitespJce from before or Jfter the text'"
      ]
     },
     "execution_count": 32,
     "metadata": {},
     "output_type": "execute_result"
    }
   ],
   "source": [
    "a_after_strip.replace(\"a\", \"J\")"
   ]
  },
  {
   "cell_type": "code",
   "execution_count": 33,
   "id": "4fb4df2d",
   "metadata": {},
   "outputs": [
    {
     "data": {
      "text/plain": [
       "'split method splits the text at a given seperator'"
      ]
     },
     "execution_count": 33,
     "metadata": {},
     "output_type": "execute_result"
    }
   ],
   "source": [
    "check_split = \"split method splits the text at a given seperator\"\n",
    "check_split"
   ]
  },
  {
   "cell_type": "code",
   "execution_count": 36,
   "id": "6f87d374",
   "metadata": {},
   "outputs": [
    {
     "data": {
      "text/plain": [
       "list"
      ]
     },
     "execution_count": 36,
     "metadata": {},
     "output_type": "execute_result"
    }
   ],
   "source": [
    "a = check_split.split(\" \")\n",
    "type(a)"
   ]
  },
  {
   "cell_type": "code",
   "execution_count": 37,
   "id": "92aa1791",
   "metadata": {},
   "outputs": [
    {
     "data": {
      "text/plain": [
       "'HelloWorld'"
      ]
     },
     "execution_count": 37,
     "metadata": {},
     "output_type": "execute_result"
    }
   ],
   "source": [
    "a = \"Hello\"\n",
    "b = \"World\"\n",
    "\n",
    "a + b"
   ]
  },
  {
   "cell_type": "code",
   "execution_count": 38,
   "id": "98a55e97",
   "metadata": {},
   "outputs": [
    {
     "data": {
      "text/plain": [
       "'Hello World'"
      ]
     },
     "execution_count": 38,
     "metadata": {},
     "output_type": "execute_result"
    }
   ],
   "source": [
    "a + \" \" + b"
   ]
  },
  {
   "cell_type": "code",
   "execution_count": 39,
   "id": "27e31749",
   "metadata": {},
   "outputs": [
    {
     "data": {
      "text/plain": [
       "'I am Ismael Haque'"
      ]
     },
     "execution_count": 39,
     "metadata": {},
     "output_type": "execute_result"
    }
   ],
   "source": [
    "introduction = \"I am \"\n",
    "name = \"Ismael Haque\"\n",
    "\n",
    "introduction + name"
   ]
  },
  {
   "cell_type": "code",
   "execution_count": 40,
   "id": "6cd7a5d3",
   "metadata": {},
   "outputs": [
    {
     "data": {
      "text/plain": [
       "'I am Ismael Haque'"
      ]
     },
     "execution_count": 40,
     "metadata": {},
     "output_type": "execute_result"
    }
   ],
   "source": [
    "introduction = \"I am {}\"\n",
    "name = \"Ismael Haque\"\n",
    "\n",
    "introduction.format(name)"
   ]
  },
  {
   "cell_type": "code",
   "execution_count": 41,
   "id": "892f0bf6",
   "metadata": {},
   "outputs": [
    {
     "data": {
      "text/plain": [
       "'My name is GodaKhamashu. I am 68'"
      ]
     },
     "execution_count": 41,
     "metadata": {},
     "output_type": "execute_result"
    }
   ],
   "source": [
    "txt = \"My name is {}. I am {}\"\n",
    "\n",
    "txt.format(\"GodaKhamashu\", 68)"
   ]
  },
  {
   "cell_type": "code",
   "execution_count": 43,
   "id": "f98dd280",
   "metadata": {},
   "outputs": [
    {
     "data": {
      "text/plain": [
       "'My name is ding dong. I am 800'"
      ]
     },
     "execution_count": 43,
     "metadata": {},
     "output_type": "execute_result"
    }
   ],
   "source": [
    "name = \"ding dong\"\n",
    "age = \"800\"\n",
    "txt = f\"My name is {name}. I am {age}\"\n",
    "txt"
   ]
  },
  {
   "cell_type": "code",
   "execution_count": 44,
   "id": "355380f6",
   "metadata": {},
   "outputs": [
    {
     "data": {
      "text/plain": [
       "'this is a plain text'"
      ]
     },
     "execution_count": 44,
     "metadata": {},
     "output_type": "execute_result"
    }
   ],
   "source": [
    "check_capitalize = \"this is a plain text\"\n",
    "check_capitalize"
   ]
  },
  {
   "cell_type": "code",
   "execution_count": 45,
   "id": "78848c19",
   "metadata": {},
   "outputs": [
    {
     "data": {
      "text/plain": [
       "'This is a plain text'"
      ]
     },
     "execution_count": 45,
     "metadata": {},
     "output_type": "execute_result"
    }
   ],
   "source": [
    "check_capitalize.capitalize()"
   ]
  },
  {
   "cell_type": "code",
   "execution_count": 46,
   "id": "c992b1b6",
   "metadata": {},
   "outputs": [
    {
     "data": {
      "text/plain": [
       "'this is a dingdong'"
      ]
     },
     "execution_count": 46,
     "metadata": {},
     "output_type": "execute_result"
    }
   ],
   "source": [
    "\"This is a DINGDONG\".casefold()"
   ]
  },
  {
   "cell_type": "code",
   "execution_count": 55,
   "id": "7da2c4c3",
   "metadata": {},
   "outputs": [
    {
     "data": {
      "text/plain": [
       "'.....................Centered.....................'"
      ]
     },
     "execution_count": 55,
     "metadata": {},
     "output_type": "execute_result"
    }
   ],
   "source": [
    "text = \"Centered\"\n",
    "text.center(50, \".\")"
   ]
  },
  {
   "cell_type": "code",
   "execution_count": 56,
   "id": "8b75e0af",
   "metadata": {},
   "outputs": [
    {
     "data": {
      "text/plain": [
       "3"
      ]
     },
     "execution_count": 56,
     "metadata": {},
     "output_type": "execute_result"
    }
   ],
   "source": [
    "check_capitalize.count('i')"
   ]
  },
  {
   "cell_type": "code",
   "execution_count": 57,
   "id": "8ab2eaf7",
   "metadata": {},
   "outputs": [],
   "source": [
    "txt = \"This is a pen\"\n",
    "x = txt.encode()"
   ]
  },
  {
   "cell_type": "code",
   "execution_count": 59,
   "id": "d7cae96a",
   "metadata": {},
   "outputs": [
    {
     "data": {
      "text/plain": [
       "True"
      ]
     },
     "execution_count": 59,
     "metadata": {},
     "output_type": "execute_result"
    }
   ],
   "source": [
    "txt.endswith(\"en\")"
   ]
  },
  {
   "cell_type": "code",
   "execution_count": 61,
   "id": "94007ff7",
   "metadata": {},
   "outputs": [
    {
     "data": {
      "text/plain": [
       "True"
      ]
     },
     "execution_count": 61,
     "metadata": {},
     "output_type": "execute_result"
    }
   ],
   "source": [
    "txt.endswith(\"a pen\")"
   ]
  },
  {
   "cell_type": "code",
   "execution_count": 63,
   "id": "b6a1f24c",
   "metadata": {},
   "outputs": [
    {
     "name": "stdout",
     "output_type": "stream",
     "text": [
      "H\te\tl\tl\to\n"
     ]
    }
   ],
   "source": [
    "txt = \"H\\te\\tl\\tl\\to\"\n",
    "print(txt)"
   ]
  },
  {
   "cell_type": "code",
   "execution_count": 64,
   "id": "389dedbc",
   "metadata": {},
   "outputs": [
    {
     "name": "stdout",
     "output_type": "stream",
     "text": [
      "H       e       l       l       o\n"
     ]
    }
   ],
   "source": [
    "print(txt.expandtabs())"
   ]
  },
  {
   "cell_type": "code",
   "execution_count": 65,
   "id": "c7938b13",
   "metadata": {},
   "outputs": [
    {
     "name": "stdout",
     "output_type": "stream",
     "text": [
      "H e l l o\n"
     ]
    }
   ],
   "source": [
    "print(txt.expandtabs(2))"
   ]
  },
  {
   "cell_type": "code",
   "execution_count": 68,
   "id": "08dab656",
   "metadata": {},
   "outputs": [
    {
     "name": "stdout",
     "output_type": "stream",
     "text": [
      "H         e         l         l         o\n"
     ]
    }
   ],
   "source": [
    "# expand tabs sets the tab size\n",
    "print(txt.expandtabs(10))"
   ]
  },
  {
   "cell_type": "code",
   "execution_count": 69,
   "id": "22bd2792",
   "metadata": {},
   "outputs": [
    {
     "data": {
      "text/plain": [
       "10"
      ]
     },
     "execution_count": 69,
     "metadata": {},
     "output_type": "execute_result"
    }
   ],
   "source": [
    "txt = \"This is a string\"\n",
    "txt.find(\"st\")"
   ]
  },
  {
   "cell_type": "code",
   "execution_count": 70,
   "id": "f4a91f7a",
   "metadata": {},
   "outputs": [
    {
     "data": {
      "text/plain": [
       "'s'"
      ]
     },
     "execution_count": 70,
     "metadata": {},
     "output_type": "execute_result"
    }
   ],
   "source": [
    "txt[10]"
   ]
  },
  {
   "cell_type": "code",
   "execution_count": 72,
   "id": "192f17c7",
   "metadata": {},
   "outputs": [
    {
     "data": {
      "text/plain": [
       "'git  ish'"
      ]
     },
     "execution_count": 72,
     "metadata": {},
     "output_type": "execute_result"
    }
   ],
   "source": [
    "txt[::-2]"
   ]
  },
  {
   "cell_type": "code",
   "execution_count": 73,
   "id": "0a638198",
   "metadata": {},
   "outputs": [
    {
     "data": {
      "text/plain": [
       "-1"
      ]
     },
     "execution_count": 73,
     "metadata": {},
     "output_type": "execute_result"
    }
   ],
   "source": [
    "txt.find(\"PO\")"
   ]
  },
  {
   "cell_type": "code",
   "execution_count": 74,
   "id": "87fde2ad",
   "metadata": {},
   "outputs": [
    {
     "data": {
      "text/plain": [
       "'This string is waiting to be formated for 2nd time'"
      ]
     },
     "execution_count": 74,
     "metadata": {},
     "output_type": "execute_result"
    }
   ],
   "source": [
    "txt = \"This string is waiting to be formated for {} time\"\n",
    "txt.format('2nd')"
   ]
  },
  {
   "cell_type": "code",
   "execution_count": 79,
   "id": "c9bf3043",
   "metadata": {},
   "outputs": [
    {
     "ename": "ValueError",
     "evalue": "substring not found",
     "output_type": "error",
     "traceback": [
      "\u001b[1;31m---------------------------------------------------------------------------\u001b[0m",
      "\u001b[1;31mValueError\u001b[0m                                Traceback (most recent call last)",
      "Cell \u001b[1;32mIn[79], line 1\u001b[0m\n\u001b[1;32m----> 1\u001b[0m \u001b[43mtxt\u001b[49m\u001b[38;5;241;43m.\u001b[39;49m\u001b[43mindex\u001b[49m\u001b[43m(\u001b[49m\u001b[38;5;124;43m\"\u001b[39;49m\u001b[38;5;124;43mpo\u001b[39;49m\u001b[38;5;124;43m\"\u001b[39;49m\u001b[43m)\u001b[49m\n",
      "\u001b[1;31mValueError\u001b[0m: substring not found"
     ]
    }
   ],
   "source": [
    "txt.index(\"po\")"
   ]
  },
  {
   "cell_type": "code",
   "execution_count": 80,
   "id": "0dd052be",
   "metadata": {},
   "outputs": [
    {
     "name": "stdout",
     "output_type": "stream",
     "text": [
      "True\n"
     ]
    }
   ],
   "source": [
    "txt = \"dingdong234\"\n",
    "x = txt.isalnum()\n",
    "print(x)"
   ]
  },
  {
   "cell_type": "code",
   "execution_count": 81,
   "id": "b5684cf8",
   "metadata": {},
   "outputs": [
    {
     "data": {
      "text/plain": [
       "False"
      ]
     },
     "execution_count": 81,
     "metadata": {},
     "output_type": "execute_result"
    }
   ],
   "source": [
    "txt.isalpha()"
   ]
  },
  {
   "cell_type": "code",
   "execution_count": 82,
   "id": "725cff55",
   "metadata": {},
   "outputs": [
    {
     "data": {
      "text/plain": [
       "True"
      ]
     },
     "execution_count": 82,
     "metadata": {},
     "output_type": "execute_result"
    }
   ],
   "source": [
    "txt.isascii()"
   ]
  },
  {
   "cell_type": "code",
   "execution_count": 88,
   "id": "86b577ca",
   "metadata": {},
   "outputs": [
    {
     "data": {
      "text/plain": [
       "True"
      ]
     },
     "execution_count": 88,
     "metadata": {},
     "output_type": "execute_result"
    }
   ],
   "source": [
    "txt = \"10\"\n",
    "txt.isdecimal()"
   ]
  },
  {
   "cell_type": "code",
   "execution_count": 89,
   "id": "4f899de1",
   "metadata": {},
   "outputs": [
    {
     "data": {
      "text/plain": [
       "True"
      ]
     },
     "execution_count": 89,
     "metadata": {},
     "output_type": "execute_result"
    }
   ],
   "source": [
    "txt.isdigit()"
   ]
  },
  {
   "cell_type": "code",
   "execution_count": 90,
   "id": "241f95f9",
   "metadata": {},
   "outputs": [
    {
     "data": {
      "text/plain": [
       "False"
      ]
     },
     "execution_count": 90,
     "metadata": {},
     "output_type": "execute_result"
    }
   ],
   "source": [
    "txt.isidentifier()"
   ]
  },
  {
   "cell_type": "code",
   "execution_count": 92,
   "id": "baf0b52d",
   "metadata": {},
   "outputs": [
    {
     "data": {
      "text/plain": [
       "False"
      ]
     },
     "execution_count": 92,
     "metadata": {},
     "output_type": "execute_result"
    }
   ],
   "source": [
    "x = \"ding dong\"\n",
    "x.isidentifier()"
   ]
  },
  {
   "cell_type": "code",
   "execution_count": 93,
   "id": "d9b360bb",
   "metadata": {},
   "outputs": [
    {
     "data": {
      "text/plain": [
       "True"
      ]
     },
     "execution_count": 93,
     "metadata": {},
     "output_type": "execute_result"
    }
   ],
   "source": [
    "\"dingDong\".isidentifier()"
   ]
  },
  {
   "cell_type": "code",
   "execution_count": 94,
   "id": "33a13b7b",
   "metadata": {},
   "outputs": [
    {
     "data": {
      "text/plain": [
       "False"
      ]
     },
     "execution_count": 94,
     "metadata": {},
     "output_type": "execute_result"
    }
   ],
   "source": [
    "\"ding dong\".isidentifier()"
   ]
  },
  {
   "cell_type": "code",
   "execution_count": 95,
   "id": "81e79a8b",
   "metadata": {},
   "outputs": [
    {
     "data": {
      "text/plain": [
       "False"
      ]
     },
     "execution_count": 95,
     "metadata": {},
     "output_type": "execute_result"
    }
   ],
   "source": [
    "\"2342Ding\".isidentifier()"
   ]
  },
  {
   "cell_type": "code",
   "execution_count": 96,
   "id": "3ffb4279",
   "metadata": {},
   "outputs": [
    {
     "data": {
      "text/plain": [
       "True"
      ]
     },
     "execution_count": 96,
     "metadata": {},
     "output_type": "execute_result"
    }
   ],
   "source": [
    "\"x\".isidentifier()"
   ]
  },
  {
   "cell_type": "code",
   "execution_count": 98,
   "id": "c9ecfbb4",
   "metadata": {},
   "outputs": [
    {
     "data": {
      "text/plain": [
       "False"
      ]
     },
     "execution_count": 98,
     "metadata": {},
     "output_type": "execute_result"
    }
   ],
   "source": [
    "txt = \"thilYYY is a string\"\n",
    "txt.islower()"
   ]
  },
  {
   "cell_type": "code",
   "execution_count": 102,
   "id": "a58399a3",
   "metadata": {},
   "outputs": [
    {
     "data": {
      "text/plain": [
       "True"
      ]
     },
     "execution_count": 102,
     "metadata": {},
     "output_type": "execute_result"
    }
   ],
   "source": [
    "\"23424324\".isnumeric()"
   ]
  },
  {
   "cell_type": "code",
   "execution_count": 106,
   "id": "75ce2738",
   "metadata": {},
   "outputs": [
    {
     "data": {
      "text/plain": [
       "True"
      ]
     },
     "execution_count": 106,
     "metadata": {},
     "output_type": "execute_result"
    }
   ],
   "source": [
    "txt = \"Hello! Are you #1?\"\n",
    "txt.isprintable()"
   ]
  },
  {
   "cell_type": "code",
   "execution_count": 112,
   "id": "42c0d8a5",
   "metadata": {},
   "outputs": [
    {
     "data": {
      "text/plain": [
       "False"
      ]
     },
     "execution_count": 112,
     "metadata": {},
     "output_type": "execute_result"
    }
   ],
   "source": [
    "\"Hello! \\bAre you #1?\".isprintable()"
   ]
  },
  {
   "cell_type": "code",
   "execution_count": 116,
   "id": "c388e82c",
   "metadata": {},
   "outputs": [
    {
     "data": {
      "text/plain": [
       "True"
      ]
     },
     "execution_count": 116,
     "metadata": {},
     "output_type": "execute_result"
    }
   ],
   "source": [
    "\"    \".isspace()"
   ]
  },
  {
   "cell_type": "code",
   "execution_count": 117,
   "id": "6342fc33",
   "metadata": {},
   "outputs": [
    {
     "data": {
      "text/plain": [
       "False"
      ]
     },
     "execution_count": 117,
     "metadata": {},
     "output_type": "execute_result"
    }
   ],
   "source": [
    "\"dinfknkd\".isspace()"
   ]
  },
  {
   "cell_type": "code",
   "execution_count": 122,
   "id": "fbd9c573",
   "metadata": {},
   "outputs": [
    {
     "data": {
      "text/plain": [
       "False"
      ]
     },
     "execution_count": 122,
     "metadata": {},
     "output_type": "execute_result"
    }
   ],
   "source": [
    "\"This is The Bigboss\".istitle()"
   ]
  },
  {
   "cell_type": "code",
   "execution_count": 127,
   "id": "536dd17c",
   "metadata": {},
   "outputs": [
    {
     "data": {
      "text/plain": [
       "True"
      ]
     },
     "execution_count": 127,
     "metadata": {},
     "output_type": "execute_result"
    }
   ],
   "source": [
    "\"THIS IS UPPERCASE\".isupper()"
   ]
  },
  {
   "cell_type": "code",
   "execution_count": 132,
   "id": "ac5a3bdb",
   "metadata": {},
   "outputs": [
    {
     "data": {
      "text/plain": [
       "['This', 'is', 'a', 'book']"
      ]
     },
     "execution_count": 132,
     "metadata": {},
     "output_type": "execute_result"
    }
   ],
   "source": [
    "myList = [\"This\", \"is\", \"a\", \"book\"]\n",
    "myList"
   ]
  },
  {
   "cell_type": "code",
   "execution_count": 136,
   "id": "7aae9312",
   "metadata": {},
   "outputs": [
    {
     "data": {
      "text/plain": [
       "'This is a book'"
      ]
     },
     "execution_count": 136,
     "metadata": {},
     "output_type": "execute_result"
    }
   ],
   "source": [
    "\" \".join(myList)"
   ]
  },
  {
   "cell_type": "code",
   "execution_count": 145,
   "id": "f334077e",
   "metadata": {},
   "outputs": [
    {
     "data": {
      "text/plain": [
       "'banana**************'"
      ]
     },
     "execution_count": 145,
     "metadata": {},
     "output_type": "execute_result"
    }
   ],
   "source": [
    "txt = \"banana\"\n",
    "x = txt.ljust(20, \"*\")\n",
    "x"
   ]
  },
  {
   "cell_type": "code",
   "execution_count": 147,
   "id": "5b945409",
   "metadata": {},
   "outputs": [
    {
     "data": {
      "text/plain": [
       "'--------------banana'"
      ]
     },
     "execution_count": 147,
     "metadata": {},
     "output_type": "execute_result"
    }
   ],
   "source": [
    "txt.rjust(20, \"-\")"
   ]
  },
  {
   "cell_type": "code",
   "execution_count": 148,
   "id": "7d1e44d3",
   "metadata": {},
   "outputs": [
    {
     "data": {
      "text/plain": [
       "'-------banana-------'"
      ]
     },
     "execution_count": 148,
     "metadata": {},
     "output_type": "execute_result"
    }
   ],
   "source": [
    "txt.center(20, \"-\")"
   ]
  },
  {
   "cell_type": "code",
   "execution_count": 149,
   "id": "c911d1ad",
   "metadata": {},
   "outputs": [
    {
     "data": {
      "text/plain": [
       "'dingdong fling up in the sky'"
      ]
     },
     "execution_count": 149,
     "metadata": {},
     "output_type": "execute_result"
    }
   ],
   "source": [
    "\"DINGDONG FLING UP IN THE SKY\".lower()"
   ]
  },
  {
   "cell_type": "code",
   "execution_count": 150,
   "id": "a4d34743",
   "metadata": {},
   "outputs": [
    {
     "data": {
      "text/plain": [
       "22"
      ]
     },
     "execution_count": 150,
     "metadata": {},
     "output_type": "execute_result"
    }
   ],
   "source": [
    "txt = \"           ding dong  \"\n",
    "len(txt)"
   ]
  },
  {
   "cell_type": "code",
   "execution_count": 159,
   "id": "1520576e",
   "metadata": {},
   "outputs": [
    {
     "data": {
      "text/plain": [
       "'ding dong  '"
      ]
     },
     "execution_count": 159,
     "metadata": {},
     "output_type": "execute_result"
    }
   ],
   "source": [
    "txt.lstrip()"
   ]
  },
  {
   "cell_type": "code",
   "execution_count": 160,
   "id": "98c17ced",
   "metadata": {},
   "outputs": [
    {
     "data": {
      "text/plain": [
       "'Hello Pam!'"
      ]
     },
     "execution_count": 160,
     "metadata": {},
     "output_type": "execute_result"
    }
   ],
   "source": [
    "txt = \"Hello Sam!\"\n",
    "myTable = str.maketrans(\"S\", \"P\")\n",
    "txt.translate(myTable)"
   ]
  },
  {
   "cell_type": "code",
   "execution_count": 162,
   "id": "3fdf1bdd",
   "metadata": {},
   "outputs": [
    {
     "data": {
      "text/plain": [
       "'Hello Pam!'"
      ]
     },
     "execution_count": 162,
     "metadata": {},
     "output_type": "execute_result"
    }
   ],
   "source": [
    "txt.replace(\"S\", \"P\")"
   ]
  },
  {
   "cell_type": "code",
   "execution_count": 167,
   "id": "77057bd0",
   "metadata": {},
   "outputs": [
    {
     "data": {
      "text/plain": [
       "('I', ' ', 'could eat bananas all day')"
      ]
     },
     "execution_count": 167,
     "metadata": {},
     "output_type": "execute_result"
    }
   ],
   "source": [
    "txt = \"I could eat bananas all day\"\n",
    "txt.partition(\" \")"
   ]
  },
  {
   "cell_type": "code",
   "execution_count": 170,
   "id": "e44d4fc6",
   "metadata": {},
   "outputs": [
    {
     "data": {
      "text/plain": [
       "('This ', 'string', ' is going to be partitioned')"
      ]
     },
     "execution_count": 170,
     "metadata": {},
     "output_type": "execute_result"
    }
   ],
   "source": [
    "txt = \"This string is going to be partitioned\"\n",
    "txt.partition(\"string\")"
   ]
  },
  {
   "cell_type": "code",
   "execution_count": 171,
   "id": "654434ca",
   "metadata": {},
   "outputs": [
    {
     "data": {
      "text/plain": [
       "['This', 'string', 'is', 'going', 'to', 'be', 'partitioned']"
      ]
     },
     "execution_count": 171,
     "metadata": {},
     "output_type": "execute_result"
    }
   ],
   "source": [
    "txt.split()"
   ]
  },
  {
   "cell_type": "code",
   "execution_count": 176,
   "id": "651160a4",
   "metadata": {},
   "outputs": [
    {
     "data": {
      "text/plain": [
       "23"
      ]
     },
     "execution_count": 176,
     "metadata": {},
     "output_type": "execute_result"
    }
   ],
   "source": [
    "txt = \"This string is waiting to be found to be questioned\"\n",
    "txt.find(\"to\")"
   ]
  },
  {
   "cell_type": "code",
   "execution_count": 182,
   "id": "48198b9f",
   "metadata": {},
   "outputs": [
    {
     "data": {
      "text/plain": [
       "35"
      ]
     },
     "execution_count": 182,
     "metadata": {},
     "output_type": "execute_result"
    }
   ],
   "source": [
    "txt.rfind(\"to\")"
   ]
  },
  {
   "cell_type": "code",
   "execution_count": 178,
   "id": "3d8baecf",
   "metadata": {},
   "outputs": [
    {
     "data": {
      "text/plain": [
       "23"
      ]
     },
     "execution_count": 178,
     "metadata": {},
     "output_type": "execute_result"
    }
   ],
   "source": [
    "txt.index('to')"
   ]
  },
  {
   "cell_type": "code",
   "execution_count": 183,
   "id": "c681ab2b",
   "metadata": {},
   "outputs": [
    {
     "data": {
      "text/plain": [
       "35"
      ]
     },
     "execution_count": 183,
     "metadata": {},
     "output_type": "execute_result"
    }
   ],
   "source": [
    "txt.rindex(\"to\")"
   ]
  },
  {
   "cell_type": "code",
   "execution_count": 185,
   "id": "79bc3880",
   "metadata": {},
   "outputs": [
    {
     "data": {
      "text/plain": [
       "'alu22222222222222222'"
      ]
     },
     "execution_count": 185,
     "metadata": {},
     "output_type": "execute_result"
    }
   ],
   "source": [
    "word = \"alu\"\n",
    "word.ljust(20, '2')"
   ]
  },
  {
   "cell_type": "code",
   "execution_count": 186,
   "id": "1e822899",
   "metadata": {},
   "outputs": [
    {
     "data": {
      "text/plain": [
       "'        alu         '"
      ]
     },
     "execution_count": 186,
     "metadata": {},
     "output_type": "execute_result"
    }
   ],
   "source": [
    "x = word.center(20)\n",
    "x"
   ]
  },
  {
   "cell_type": "code",
   "execution_count": 190,
   "id": "b8a7a486",
   "metadata": {},
   "outputs": [
    {
     "data": {
      "text/plain": [
       "'alu         '"
      ]
     },
     "execution_count": 190,
     "metadata": {},
     "output_type": "execute_result"
    }
   ],
   "source": [
    "x.lstrip()"
   ]
  },
  {
   "cell_type": "code",
   "execution_count": 191,
   "id": "e98e8ab4",
   "metadata": {},
   "outputs": [
    {
     "data": {
      "text/plain": [
       "['This',\n",
       " 'string',\n",
       " 'is',\n",
       " 'waiting',\n",
       " 'to',\n",
       " 'be',\n",
       " 'found',\n",
       " 'to',\n",
       " 'be',\n",
       " 'questioned']"
      ]
     },
     "execution_count": 191,
     "metadata": {},
     "output_type": "execute_result"
    }
   ],
   "source": [
    "txt.split()"
   ]
  },
  {
   "cell_type": "code",
   "execution_count": 195,
   "id": "f131dcb7",
   "metadata": {},
   "outputs": [
    {
     "data": {
      "text/plain": [
       "False"
      ]
     },
     "execution_count": 195,
     "metadata": {},
     "output_type": "execute_result"
    }
   ],
   "source": [
    "txt = \"This is first line \\n This is the second line \\n this is the third line\"\n",
    "txt.isprintable()"
   ]
  },
  {
   "cell_type": "code",
   "execution_count": 196,
   "id": "554992cf",
   "metadata": {},
   "outputs": [
    {
     "data": {
      "text/plain": [
       "['This is first line ', ' This is the second line ', ' this is the third line']"
      ]
     },
     "execution_count": 196,
     "metadata": {},
     "output_type": "execute_result"
    }
   ],
   "source": [
    "txt.splitlines()"
   ]
  },
  {
   "cell_type": "code",
   "execution_count": 200,
   "id": "4072eaa6",
   "metadata": {},
   "outputs": [
    {
     "data": {
      "text/plain": [
       "True"
      ]
     },
     "execution_count": 200,
     "metadata": {},
     "output_type": "execute_result"
    }
   ],
   "source": [
    "txt.startswith(\"This\")"
   ]
  },
  {
   "cell_type": "code",
   "execution_count": 201,
   "id": "1289f081",
   "metadata": {},
   "outputs": [
    {
     "data": {
      "text/plain": [
       "'alu begun shosta'"
      ]
     },
     "execution_count": 201,
     "metadata": {},
     "output_type": "execute_result"
    }
   ],
   "source": [
    "\"alu begun shosta   \".strip()"
   ]
  },
  {
   "cell_type": "code",
   "execution_count": 202,
   "id": "b18d7783",
   "metadata": {},
   "outputs": [
    {
     "data": {
      "text/plain": [
       "'Alu Begun Shosta'"
      ]
     },
     "execution_count": 202,
     "metadata": {},
     "output_type": "execute_result"
    }
   ],
   "source": [
    "\"alu begun shosta\".title()"
   ]
  },
  {
   "cell_type": "code",
   "execution_count": 203,
   "id": "359e8f83",
   "metadata": {},
   "outputs": [
    {
     "data": {
      "text/plain": [
       "'Alu begun shosta'"
      ]
     },
     "execution_count": 203,
     "metadata": {},
     "output_type": "execute_result"
    }
   ],
   "source": [
    "\"alu begun shosta\".capitalize()"
   ]
  },
  {
   "cell_type": "code",
   "execution_count": 206,
   "id": "658c7dc0",
   "metadata": {},
   "outputs": [
    {
     "data": {
      "text/plain": [
       "'alu begun shosta'"
      ]
     },
     "execution_count": 206,
     "metadata": {},
     "output_type": "execute_result"
    }
   ],
   "source": [
    "\"alu begun shosta\".zfill(2)"
   ]
  },
  {
   "cell_type": "code",
   "execution_count": 207,
   "id": "8aea8158",
   "metadata": {},
   "outputs": [
    {
     "data": {
      "text/plain": [
       "'00000sdkfj'"
      ]
     },
     "execution_count": 207,
     "metadata": {},
     "output_type": "execute_result"
    }
   ],
   "source": [
    "x = \"sdkfj\"\n",
    "x.zfill(10)"
   ]
  },
  {
   "cell_type": "code",
   "execution_count": 208,
   "id": "3df77221",
   "metadata": {},
   "outputs": [
    {
     "data": {
      "text/plain": [
       "'0000000050'"
      ]
     },
     "execution_count": 208,
     "metadata": {},
     "output_type": "execute_result"
    }
   ],
   "source": [
    "x = \"50\"\n",
    "x.zfill(10)"
   ]
  }
 ],
 "metadata": {
  "kernelspec": {
   "display_name": "Python 3 (ipykernel)",
   "language": "python",
   "name": "python3"
  },
  "language_info": {
   "codemirror_mode": {
    "name": "ipython",
    "version": 3
   },
   "file_extension": ".py",
   "mimetype": "text/x-python",
   "name": "python",
   "nbconvert_exporter": "python",
   "pygments_lexer": "ipython3",
   "version": "3.10.9"
  }
 },
 "nbformat": 4,
 "nbformat_minor": 5
}
